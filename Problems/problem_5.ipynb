{
 "cells": [
  {
   "cell_type": "markdown",
   "metadata": {},
   "source": [
    "# Problem 5: Blockchain"
   ]
  },
  {
   "cell_type": "code",
   "execution_count": 9,
   "metadata": {},
   "outputs": [],
   "source": [
    "import hashlib\n",
    "import datetime\n",
    "\n",
    "\n",
    "# Block of BlockChain\n",
    "class Block:\n",
    "\n",
    "    def __init__(self, timestamp, data, previous_hash):\n",
    "        self.timestamp = timestamp\n",
    "        self.data = data\n",
    "        self.previous_hash = previous_hash\n",
    "        self.hash = self.calc_hash(data)\n",
    "        self.block_number = 0\n",
    "        self.left = None\n",
    "        self.right = None\n",
    "        \n",
    "    def calc_hash(self, data):\n",
    "        sha = hashlib.sha256()\n",
    "        hash_str = data.encode('utf-8')\n",
    "        sha.update(hash_str)\n",
    "        return sha.hexdigest()\n",
    "\n",
    "# BlockChain implemented using Doubly Linked List         \n",
    "class BlockChain:\n",
    "    \n",
    "    def __init__(self):\n",
    "        self.head = None\n",
    "        self.tail = None\n",
    "        self.current_block = 0\n",
    "    \n",
    "    # Adds Block in BlockChain\n",
    "    def add_block(self, data):\n",
    "        \n",
    "        # Creates timestamp - UTC (formerly GMT)\n",
    "        timestamp = datetime.datetime.utcnow()\n",
    "        timestamp = timestamp.strftime(\"%H:%M %d/%m/%Y\")\n",
    "        \n",
    "        if self.head is None:  # If BlockChain has no elements\n",
    "            previous_hash = None\n",
    "            block = Block(timestamp, data, previous_hash)\n",
    "            self.head = block \n",
    "            self.tail = block\n",
    "            block.block_number = self.current_block\n",
    "            self.current_block += 1\n",
    "        elif self.head.right is None:  # If BlockChain has only one element\n",
    "            previous_hash = self.head.hash\n",
    "            block = Block(timestamp, data, previous_hash)\n",
    "            self.head.right = block\n",
    "            block.left = self.head\n",
    "            self.tail = block\n",
    "            block.block_number = self.current_block\n",
    "            self.current_block += 1\n",
    "        else:  # If BlockChain has more than one element\n",
    "            previous_hash = self.tail.hash\n",
    "            block = Block(timestamp, data, previous_hash)\n",
    "            block.left = self.tail\n",
    "            self.tail.right = block\n",
    "            self.tail = block\n",
    "            block.block_number = self.current_block\n",
    "            self.current_block += 1\n",
    "    \n",
    "    # Pop a Block from the BlockChain\n",
    "    def pop_block(self):\n",
    "        if self.head is None: # If BlockChain has no elements\n",
    "            return \"Empty!\"\n",
    "        elif self.head.right is None:  # If BlockChain has only one element\n",
    "            data = self.head.data\n",
    "            self.head = None\n",
    "            self.tail = None\n",
    "            self.current_block -= 1\n",
    "            return data\n",
    "        else:   # If BlockChain has more than one element\n",
    "            data = self.tail.data\n",
    "            self.tail = self.tail.left\n",
    "            self.tail.right = None\n",
    "            self.current_block -= 1\n",
    "            return data\n",
    "        \n",
    "    def get_head(self):\n",
    "        return self.head\n",
    "    \n",
    "    def get_tail(self):\n",
    "        return self.tail\n",
    "    \n",
    "    # Display blocks in a BlockChain\n",
    "    def display(self):\n",
    "        current_node = self.head\n",
    "        if not current_node:\n",
    "            return \"Empty!\"\n",
    "        while current_node:\n",
    "            print(\"----------------------------------------------------------------------------------\")\n",
    "            print(\"| Timestamp: \" + str(current_node.timestamp) + (\" \" * (80-len(\" Timestamp: \" + str(current_node.timestamp)))) + \"|\" )\n",
    "            print(\"| Data: \" + str(current_node.data) + (\" \" * (80-len(\" Data: \" + str(current_node.data)))) + \"|\" )\n",
    "            print(\"| SHA256 Hash: \" + str(current_node.hash) + (\" \" * (80-len(\" SHA256 Hash: \" + str(current_node.hash)))) + \"|\" )\n",
    "            print(\"| Prev_hash: \" + str(current_node.previous_hash) + (\" \" * (80-len(\" Prev_hash: \" + str(current_node.previous_hash)))) + \"|\" )\n",
    "            print(\"| Block_number: \" + str(current_node.block_number) + (\" \" * (80-len(\" Block_number: \" + str(current_node.block_number)))) + \"|\" )\n",
    "            print(\"----------------------------------------------------------------------------------\")\n",
    "            print(\"                                        ↓\")\n",
    "            if not current_node.right:\n",
    "                print(\"                                       NULL\")\n",
    "            current_node = current_node.right\n",
    "        "
   ]
  },
  {
   "cell_type": "markdown",
   "metadata": {},
   "source": [
    "# Test Cases"
   ]
  },
  {
   "cell_type": "code",
   "execution_count": 10,
   "metadata": {},
   "outputs": [],
   "source": [
    "block_chain = BlockChain()"
   ]
  },
  {
   "cell_type": "code",
   "execution_count": 11,
   "metadata": {},
   "outputs": [],
   "source": [
    "block_chain.add_block(\"Hello!\")\n",
    "block_chain.add_block(\"It's nice to meet u!\")\n",
    "block_chain.add_block(\"Have a nice day :)\")"
   ]
  },
  {
   "cell_type": "code",
   "execution_count": 12,
   "metadata": {},
   "outputs": [
    {
     "name": "stdout",
     "output_type": "stream",
     "text": [
      "----------------------------------------------------------------------------------\n",
      "| Timestamp: 23:01 04/04/2020                                                    |\n",
      "| Data: Hello!                                                                   |\n",
      "| SHA256 Hash: 334d016f755cd6dc58c53a86e183882f8ec14f52fb05345887c8a5edd42c87b7  |\n",
      "| Prev_hash: None                                                                |\n",
      "| Block_number: 0                                                                |\n",
      "----------------------------------------------------------------------------------\n",
      "                                        ↓\n",
      "----------------------------------------------------------------------------------\n",
      "| Timestamp: 23:01 04/04/2020                                                    |\n",
      "| Data: It's nice to meet u!                                                     |\n",
      "| SHA256 Hash: 7d6f316436c54adc68ef9da734236681cf2332fb5393b4e544f2dc58812c8a04  |\n",
      "| Prev_hash: 334d016f755cd6dc58c53a86e183882f8ec14f52fb05345887c8a5edd42c87b7    |\n",
      "| Block_number: 1                                                                |\n",
      "----------------------------------------------------------------------------------\n",
      "                                        ↓\n",
      "----------------------------------------------------------------------------------\n",
      "| Timestamp: 23:01 04/04/2020                                                    |\n",
      "| Data: Have a nice day :)                                                       |\n",
      "| SHA256 Hash: d13192fbd38ab01375803a1173aa038d16414fc6b996c1714d77e1c5a019c063  |\n",
      "| Prev_hash: 7d6f316436c54adc68ef9da734236681cf2332fb5393b4e544f2dc58812c8a04    |\n",
      "| Block_number: 2                                                                |\n",
      "----------------------------------------------------------------------------------\n",
      "                                        ↓\n",
      "                                       NULL\n"
     ]
    }
   ],
   "source": [
    "block_chain.display()\n",
    "# Expected Output: Hello! -> It's nice to meet u! -> Have a nice day :) ->"
   ]
  },
  {
   "cell_type": "code",
   "execution_count": 13,
   "metadata": {},
   "outputs": [
    {
     "data": {
      "text/plain": [
       "'Have a nice day :)'"
      ]
     },
     "execution_count": 13,
     "metadata": {},
     "output_type": "execute_result"
    }
   ],
   "source": [
    "block_chain.pop_block()\n",
    "# Expected Output: Have a nice day :)"
   ]
  },
  {
   "cell_type": "code",
   "execution_count": 55,
   "metadata": {},
   "outputs": [
    {
     "name": "stdout",
     "output_type": "stream",
     "text": [
      "----------------------------------------------------------------------------------\n",
      "| Timestamp: 20:13 04/04/2020                                                    |\n",
      "| Data: Hello!                                                                   |\n",
      "| SHA256 Hash: 334d016f755cd6dc58c53a86e183882f8ec14f52fb05345887c8a5edd42c87b7  |\n",
      "| Prev_hash: None                                                                |\n",
      "| Block_number: 0                                                                |\n",
      "----------------------------------------------------------------------------------\n",
      "                                        ↓\n",
      "----------------------------------------------------------------------------------\n",
      "| Timestamp: 20:13 04/04/2020                                                    |\n",
      "| Data: It's nice to meet u!                                                     |\n",
      "| SHA256 Hash: 7d6f316436c54adc68ef9da734236681cf2332fb5393b4e544f2dc58812c8a04  |\n",
      "| Prev_hash: 334d016f755cd6dc58c53a86e183882f8ec14f52fb05345887c8a5edd42c87b7    |\n",
      "| Block_number: 1                                                                |\n",
      "----------------------------------------------------------------------------------\n",
      "                                        ↓\n",
      "                                       NULL\n"
     ]
    }
   ],
   "source": [
    "block_chain.display()\n",
    "# Expected Output: Hello! -> It's nice to meet u! ->"
   ]
  },
  {
   "cell_type": "code",
   "execution_count": 14,
   "metadata": {},
   "outputs": [
    {
     "data": {
      "text/plain": [
       "\"It's nice to meet u!\""
      ]
     },
     "execution_count": 14,
     "metadata": {},
     "output_type": "execute_result"
    }
   ],
   "source": [
    "block_chain.pop_block()\n",
    "# Expected Output: It's nice to meet u!"
   ]
  },
  {
   "cell_type": "code",
   "execution_count": 15,
   "metadata": {},
   "outputs": [
    {
     "name": "stdout",
     "output_type": "stream",
     "text": [
      "----------------------------------------------------------------------------------\n",
      "| Timestamp: 23:01 04/04/2020                                                    |\n",
      "| Data: Hello!                                                                   |\n",
      "| SHA256 Hash: 334d016f755cd6dc58c53a86e183882f8ec14f52fb05345887c8a5edd42c87b7  |\n",
      "| Prev_hash: None                                                                |\n",
      "| Block_number: 0                                                                |\n",
      "----------------------------------------------------------------------------------\n",
      "                                        ↓\n",
      "                                       NULL\n"
     ]
    }
   ],
   "source": [
    "block_chain.display()\n",
    "# Expected Output: Hello! ->"
   ]
  },
  {
   "cell_type": "code",
   "execution_count": 16,
   "metadata": {},
   "outputs": [
    {
     "data": {
      "text/plain": [
       "'Hello!'"
      ]
     },
     "execution_count": 16,
     "metadata": {},
     "output_type": "execute_result"
    }
   ],
   "source": [
    "block_chain.pop_block()\n",
    "# Expected Output: Hello!"
   ]
  },
  {
   "cell_type": "code",
   "execution_count": 17,
   "metadata": {},
   "outputs": [
    {
     "data": {
      "text/plain": [
       "'Empty!'"
      ]
     },
     "execution_count": 17,
     "metadata": {},
     "output_type": "execute_result"
    }
   ],
   "source": [
    "block_chain.display()\n",
    "# Expected Output: Empty!"
   ]
  },
  {
   "cell_type": "code",
   "execution_count": 18,
   "metadata": {},
   "outputs": [
    {
     "name": "stdout",
     "output_type": "stream",
     "text": [
      "----------------------------------------------------------------------------------\n",
      "| Timestamp: 23:03 04/04/2020                                                    |\n",
      "| Data: It's Me Again xD                                                         |\n",
      "| SHA256 Hash: 5e3d72f4bc315cad17c79e6690af712f1cdd5cc573fb6a3f6309f75e6d3a566d  |\n",
      "| Prev_hash: None                                                                |\n",
      "| Block_number: 0                                                                |\n",
      "----------------------------------------------------------------------------------\n",
      "                                        ↓\n",
      "                                       NULL\n"
     ]
    }
   ],
   "source": [
    "block_chain.add_block(\"It's Me Again xD\")\n",
    "block_chain.display()\n",
    "# Expected Output: It's Me Again xD ->"
   ]
  },
  {
   "cell_type": "code",
   "execution_count": null,
   "metadata": {},
   "outputs": [],
   "source": []
  }
 ],
 "metadata": {
  "kernelspec": {
   "display_name": "Python 3",
   "language": "python",
   "name": "python3"
  },
  "language_info": {
   "codemirror_mode": {
    "name": "ipython",
    "version": 3
   },
   "file_extension": ".py",
   "mimetype": "text/x-python",
   "name": "python",
   "nbconvert_exporter": "python",
   "pygments_lexer": "ipython3",
   "version": "3.6.3"
  }
 },
 "nbformat": 4,
 "nbformat_minor": 2
}
