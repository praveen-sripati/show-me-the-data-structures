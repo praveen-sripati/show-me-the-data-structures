{
 "cells": [
  {
   "cell_type": "markdown",
   "metadata": {},
   "source": [
    "# Problem 6: Union and Intersection"
   ]
  },
  {
   "cell_type": "code",
   "execution_count": 2,
   "metadata": {},
   "outputs": [],
   "source": [
    "class Node:\n",
    "    \n",
    "    def __init__(self, value):\n",
    "        self.value = value\n",
    "        self.next = None\n",
    "\n",
    "    def __repr__(self):\n",
    "        return str(self.value)\n",
    "\n",
    "\n",
    "class LinkedList:\n",
    "    \n",
    "    def __init__(self):\n",
    "        self.head = None\n",
    "\n",
    "    def __str__(self):\n",
    "        cur_head = self.head\n",
    "        out_string = \"\"\n",
    "        while cur_head:\n",
    "            out_string += str(cur_head.value) + \" -> \"\n",
    "            cur_head = cur_head.next\n",
    "        return out_string\n",
    "\n",
    "\n",
    "    def append(self, value):\n",
    "\n",
    "        if self.head is None:\n",
    "            self.head = Node(value)\n",
    "            return\n",
    "\n",
    "        node = self.head\n",
    "        while node.next:\n",
    "            node = node.next\n",
    "\n",
    "        node.next = Node(value)\n",
    "\n",
    "    def size(self):\n",
    "        size = 0\n",
    "        node = self.head\n",
    "        while node:\n",
    "            size += 1\n",
    "            node = node.next\n",
    "\n",
    "        return size\n",
    "\n",
    "def union(llist_1, llist_2):\n",
    "    \n",
    "    llist_union = LinkedList()\n",
    "    llist_1_curr = llist_1.head\n",
    "    llist_2_curr = llist_2.head\n",
    "    \n",
    "    # If Both lists are empty return None\n",
    "    if llist_1_curr is None and llist_2_curr is None:\n",
    "        return None\n",
    "    \n",
    "    if llist_1_curr is None:  # If list_1 is empty return union of the list\n",
    "        return remove_duplicates(llist_2)\n",
    "    elif llist_2_curr is None:  # If list_2 is empty return union of the list\n",
    "        return remove_duplicates(llist_1)\n",
    "    else:  # If Both lists has elements return union of both the lists\n",
    "        llist_union = LinkedList()\n",
    "        llist_union_dict = {}\n",
    "        \n",
    "        llist_1_set = remove_duplicates(llist_1) # Removes duplicates of list_1\n",
    "        llist_2_set = remove_duplicates(llist_2) # Removes duplicates of list_2\n",
    "        \n",
    "        llist_1_set_curr = llist_1_set.head\n",
    "        llist_2_set_curr = llist_2_set.head\n",
    "        \n",
    "        while llist_1_set_curr:  # Appends list1 elements in the Union LinkedList\n",
    "            llist_union_dict[llist_1_set_curr.value] = llist_1_set_curr.value\n",
    "            llist_union.append(llist_1_set_curr)\n",
    "            llist_1_set_curr = llist_1_set_curr.next\n",
    "            \n",
    "        while llist_2_set_curr:  # Appends list2 elements in the Union LinkedList if they are not in list1\n",
    "            if not llist_2_set_curr.value in llist_union_dict:\n",
    "                llist_union.append(llist_2_set_curr.value)\n",
    "            llist_2_set_curr = llist_2_set_curr.next\n",
    "                \n",
    "        return llist_union\n",
    "    \n",
    "def intersection(llist_1, llist_2):\n",
    "\n",
    "    llist_1_curr = llist_1.head\n",
    "    llist_2_curr = llist_2.head\n",
    "    \n",
    "    # If one of the list is empty returns None\n",
    "    if llist_1_curr is None or llist_2_curr is None:\n",
    "        return None\n",
    "    else: \n",
    "        # Checks list size for optimization\n",
    "        # if list_1 is having less size than\n",
    "        # we just traverse list_1 cuz we will\n",
    "        # traverse less nodes\n",
    "        if llist_1.size() < llist_2.size():  \n",
    "            llist_intersec = llist_intersection(llist_1, llist_2)\n",
    "            if llist_intersec.head:\n",
    "                return llist_intersec\n",
    "            else:\n",
    "                return None\n",
    "        elif llist_2.size() < llist_1.size(): # If llist_2 size is less than llist_1\n",
    "            llist_intersec = llist_intersection(llist_2, llist_1)\n",
    "            if llist_intersec.head:\n",
    "                return llist_intersec\n",
    "            else:\n",
    "                return None\n",
    "        \n",
    "# Helper function to remove duplicates from the llist returns llist\n",
    "def remove_duplicates(llist):    \n",
    "    llist_set = LinkedList()\n",
    "    llist_dict = dict()\n",
    "    \n",
    "    llist_curr = llist.head\n",
    "    while llist_curr:\n",
    "        if not llist_curr.value in llist_dict:\n",
    "            llist_dict[llist_curr.value] = llist_curr.value\n",
    "            llist_set.append(llist_curr.value)\n",
    "        llist_curr = llist_curr.next\n",
    "    return llist_set\n",
    "\n",
    "# Helper function for finding intersection of two lists returns llist of intersection\n",
    "def llist_intersection(llist_one, llist_two):\n",
    "    \n",
    "    llist_intersec = LinkedList()  \n",
    "    llist_dict = {}\n",
    "    llist_one_set = remove_duplicates(llist_one) # Removes duplicates of llist_1\n",
    "    llist_two_set = remove_duplicates(llist_two) # Removes duplicates of llist_2\n",
    "    \n",
    "    llist_one_curr = llist_one_set.head\n",
    "    llist_two_curr = llist_two_set.head\n",
    "    \n",
    "    while llist_one_curr: # Traverse llist_1\n",
    "        llist_dict[llist_one_curr.value] = llist_one_curr.value  # Adds llist_1 elements to dictionary\n",
    "        llist_one_curr = llist_one_curr.next\n",
    "    \n",
    "    while llist_two_curr: # Traverse llist_2\n",
    "        if llist_dict.get(llist_two_curr.value):  # Checks if list_2 element is present in dictionary\n",
    "            llist_intersec.append(llist_two_curr.value)  # Appends element if it is common in both lists\n",
    "        llist_two_curr = llist_two_curr.next\n",
    "        \n",
    "    return llist_intersec\n"
   ]
  },
  {
   "cell_type": "markdown",
   "metadata": {},
   "source": [
    "# Test Cases"
   ]
  },
  {
   "cell_type": "code",
   "execution_count": 3,
   "metadata": {},
   "outputs": [
    {
     "name": "stdout",
     "output_type": "stream",
     "text": [
      "3 -> 2 -> 4 -> 35 -> 6 -> 65 -> 32 -> 9 -> 1 -> 11 -> 21 -> \n",
      "6 -> 4 -> \n"
     ]
    }
   ],
   "source": [
    "# Test case 1\n",
    "\n",
    "linked_list_1 = LinkedList()\n",
    "linked_list_2 = LinkedList()\n",
    "\n",
    "element_1 = [3,2,4,35,6,65,6]\n",
    "element_2 = [6,32,4,9,6,1,11,21,1]\n",
    "\n",
    "for i in element_1:\n",
    "    linked_list_1.append(i)\n",
    "\n",
    "for i in element_2:\n",
    "    linked_list_2.append(i)\n",
    "\n",
    "print (union(linked_list_1,linked_list_2))\n",
    "print (intersection(linked_list_1,linked_list_2))\n",
    "\n",
    "# Expected Output: \n",
    "#   Union - 3 -> 2 -> 4 -> 35 -> 6 -> 65 -> 32 -> 9 -> 1 -> 11 -> 21 ->\n",
    "#   Intersection - 6 -> 4 -> "
   ]
  },
  {
   "cell_type": "code",
   "execution_count": 4,
   "metadata": {},
   "outputs": [
    {
     "name": "stdout",
     "output_type": "stream",
     "text": [
      "3 -> 2 -> 4 -> 35 -> 6 -> 65 -> 21 -> 32 -> 9 -> 1 -> 11 -> \n",
      "4 -> 6 -> 21 -> \n"
     ]
    }
   ],
   "source": [
    "# Test case 2\n",
    "\n",
    "linked_list_1 = LinkedList()\n",
    "linked_list_2 = LinkedList()\n",
    "\n",
    "element_1 = [3,2,4,35,6,65,6,4,3,21]\n",
    "element_2 = [6,32,4,9,6,1,11,21,1]\n",
    "\n",
    "for i in element_1:\n",
    "    linked_list_1.append(i)\n",
    "\n",
    "for i in element_2:\n",
    "    linked_list_2.append(i)\n",
    "\n",
    "print (union(linked_list_1,linked_list_2))\n",
    "print (intersection(linked_list_1,linked_list_2))\n",
    "\n",
    "# Expected Output: \n",
    "#   Union - 3 -> 2 -> 4 -> 35 -> 6 -> 65 -> 21 -> 32 -> 9 -> 1 -> 11 -> \n",
    "#   Intersection - 4 -> 6 -> 21 -> "
   ]
  },
  {
   "cell_type": "code",
   "execution_count": 5,
   "metadata": {},
   "outputs": [
    {
     "name": "stdout",
     "output_type": "stream",
     "text": [
      "3 -> 2 -> 4 -> 35 -> 6 -> 65 -> 23 -> 1 -> 7 -> 8 -> 9 -> 11 -> 21 -> \n",
      "None\n"
     ]
    }
   ],
   "source": [
    "# Test case 3\n",
    "\n",
    "linked_list_3 = LinkedList()\n",
    "linked_list_4 = LinkedList()\n",
    "\n",
    "element_1 = [3,2,4,35,6,65,6,4,3,23]\n",
    "element_2 = [1,7,8,9,11,21,1]\n",
    "\n",
    "for i in element_1:\n",
    "    linked_list_3.append(i)\n",
    "\n",
    "for i in element_2:\n",
    "    linked_list_4.append(i)\n",
    "\n",
    "print (union(linked_list_3,linked_list_4))\n",
    "print (intersection(linked_list_3,linked_list_4))\n",
    "\n",
    "# Expected Output: \n",
    "#   Union - 3 -> 2 -> 4 -> 35 -> 6 -> 65 -> 23 -> 1 -> 7 -> 8 -> 9 -> 11 -> 21 ->  \n",
    "#   Intersection - None"
   ]
  },
  {
   "cell_type": "code",
   "execution_count": 6,
   "metadata": {},
   "outputs": [
    {
     "name": "stdout",
     "output_type": "stream",
     "text": [
      "2 -> 3 -> \n",
      "3 -> 2 -> \n"
     ]
    }
   ],
   "source": [
    "# Test case 4\n",
    "\n",
    "linked_list_5 = LinkedList()\n",
    "linked_list_6 = LinkedList()\n",
    "\n",
    "element_1 = [2,3]\n",
    "element_2 = [3,2,2]\n",
    "\n",
    "for i in element_1:\n",
    "    linked_list_5.append(i)\n",
    "\n",
    "for i in element_2:\n",
    "    linked_list_6.append(i)\n",
    "\n",
    "print (union(linked_list_5, linked_list_6))\n",
    "print (intersection(linked_list_5, linked_list_6))\n",
    "\n",
    "# Expected Output: \n",
    "#   Union - 2 -> 3 ->   \n",
    "#   Intersection - 3 -> 2 ->"
   ]
  },
  {
   "cell_type": "code",
   "execution_count": 7,
   "metadata": {},
   "outputs": [
    {
     "name": "stdout",
     "output_type": "stream",
     "text": [
      "3 -> 2 -> \n",
      "None\n"
     ]
    }
   ],
   "source": [
    "# Test case 5\n",
    "\n",
    "linked_list_7 = LinkedList()\n",
    "linked_list_8 = LinkedList()\n",
    "\n",
    "element_1 = []\n",
    "element_2 = [3,2,2]\n",
    "\n",
    "for i in element_1:\n",
    "    linked_list_7.append(i)\n",
    "\n",
    "for i in element_2:\n",
    "    linked_list_8.append(i)\n",
    "\n",
    "print (union(linked_list_7, linked_list_8))\n",
    "print (intersection(linked_list_7, linked_list_8))\n",
    "\n",
    "# Expected Output: \n",
    "#   Union - 2 -> 3 ->   \n",
    "#   Intersection - 3 -> 2 ->"
   ]
  },
  {
   "cell_type": "code",
   "execution_count": 3,
   "metadata": {},
   "outputs": [
    {
     "name": "stdout",
     "output_type": "stream",
     "text": [
      "None\n",
      "None\n"
     ]
    }
   ],
   "source": [
    "# Test Case 6\n",
    "\n",
    "linked_list_7 = LinkedList()\n",
    "linked_list_8 = LinkedList()\n",
    "\n",
    "element_1 = []\n",
    "element_2 = []\n",
    "\n",
    "for i in element_1:\n",
    "    linked_list_7.append(i)\n",
    "\n",
    "for i in element_2:\n",
    "    linked_list_8.append(i)\n",
    "\n",
    "print (union(linked_list_7, linked_list_8))\n",
    "print (intersection(linked_list_7, linked_list_8))\n",
    "\n",
    "# Expected Output: \n",
    "#   Union - 2 -> 3 ->   \n",
    "#   Intersection - 3 -> 2 ->"
   ]
  }
 ],
 "metadata": {
  "kernelspec": {
   "display_name": "Python 3",
   "language": "python",
   "name": "python3"
  },
  "language_info": {
   "codemirror_mode": {
    "name": "ipython",
    "version": 3
   },
   "file_extension": ".py",
   "mimetype": "text/x-python",
   "name": "python",
   "nbconvert_exporter": "python",
   "pygments_lexer": "ipython3",
   "version": "3.6.3"
  }
 },
 "nbformat": 4,
 "nbformat_minor": 2
}
