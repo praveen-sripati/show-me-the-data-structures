{
 "cells": [
  {
   "cell_type": "markdown",
   "metadata": {},
   "source": [
    "# Problem 1: LRU Cache"
   ]
  },
  {
   "cell_type": "code",
   "execution_count": 1,
   "metadata": {},
   "outputs": [],
   "source": [
    "# Doubly Linked List Node\n",
    "class DLLNode:\n",
    "    \n",
    "    def __init__(self, key, value):\n",
    "        self.key = key\n",
    "        self.value = value\n",
    "        self.left = None\n",
    "        self.right = None\n",
    "\n",
    "        \n",
    "# Implementing LRU_Cache using Doubly Linked List\n",
    "class LRU_Cache(object):\n",
    "\n",
    "    def __init__(self, capacity):\n",
    "        # Initialize class variables\n",
    "        self.capacity = capacity\n",
    "        self.current_size = 0\n",
    "        self.keys = dict()\n",
    "        self.head = None\n",
    "        self.tail = None\n",
    "    \n",
    "    # Get an LRU element from the cache\n",
    "    def get(self, key):\n",
    "        \n",
    "        # Retrieve item from provided key. Return -1 if nonexistent.\n",
    "        if not self.keys.get(key):\n",
    "            return -1\n",
    "        \n",
    "        node = self.keys.get(key)\n",
    "        if node: # If key is present\n",
    "            if node == self.head: # If element is present at the head\n",
    "                if self.head.right is not None: # If list having more than two elements\n",
    "                    self.tail.right = self.head\n",
    "                    self.head = self.head.right\n",
    "                    self.tail = self.tail.right\n",
    "                    self.tail.right = None\n",
    "                    self.head.left = None\n",
    "                    return node.value\n",
    "                else: # If list having only one element\n",
    "                    return node.value\n",
    "            elif node == self.tail: # If element is present at the tail end\n",
    "                return node.value\n",
    "            elif node.left and node.right: # Element present at the rest of the position\n",
    "                node.left.right = node.right\n",
    "                node.right.left = node.left\n",
    "                self.tail.right = node\n",
    "                node.left = self.tail\n",
    "                node.right = None\n",
    "                self.tail = node\n",
    "                return node.value\n",
    "\n",
    "        return -1\n",
    "                \n",
    "    # Set an element in the cache\n",
    "    def set(self, key, value):\n",
    "        # Set the value if the key is not present in the cache. If the cache is at capacity remove the oldest item.\n",
    "        if not self.keys.get(key): # Check whether the key is present in List\n",
    "            node = DLLNode(key, value)\n",
    "            if self.current_size < self.capacity:  # If the cache is not at its capacity\n",
    "                self.keys[key] = node\n",
    "                if self.head is None: # If cache is empty\n",
    "                    self.head = node\n",
    "                    self.tail = node\n",
    "                    self.current_size += 1\n",
    "                else: # If cache having elements\n",
    "                    self.tail.right = node\n",
    "                    node.left = self.tail\n",
    "                    self.tail = self.tail.right\n",
    "                    self.current_size += 1\n",
    "            elif self.current_size >= self.capacity:  # If the cache is at its full capacity\n",
    "                self.keys[key] = node\n",
    "                lru_key = self.head.key\n",
    "                self.head = self.head.right\n",
    "                self.head.left = None\n",
    "                del self.keys[lru_key]\n",
    "                self.tail.right = node\n",
    "                node.left = self.tail\n",
    "                self.tail = node\n",
    "                self.tail.right = None\n",
    "        else:\n",
    "            return \"Already Present!\"\n",
    "        \n",
    "    # Display elements present in the cache\n",
    "    def display(self):\n",
    "        currentNode = self.head\n",
    "        while currentNode is not None:\n",
    "            print(currentNode.value, end=' ')\n",
    "            currentNode = currentNode.right\n",
    "            \n",
    "our_cache = LRU_Cache(5)"
   ]
  },
  {
   "cell_type": "markdown",
   "metadata": {},
   "source": [
    "# Test Cases"
   ]
  },
  {
   "cell_type": "code",
   "execution_count": 3,
   "metadata": {},
   "outputs": [
    {
     "name": "stdout",
     "output_type": "stream",
     "text": [
      "1 2 3 "
     ]
    }
   ],
   "source": [
    "our_cache.set(1, 1)\n",
    "our_cache.set(2, 2)\n",
    "our_cache.set(3, 3)\n",
    "our_cache.display()\n",
    "# Expected Output: 1 2 3"
   ]
  },
  {
   "cell_type": "code",
   "execution_count": 4,
   "metadata": {},
   "outputs": [
    {
     "name": "stdout",
     "output_type": "stream",
     "text": [
      "1 2 3 4 "
     ]
    }
   ],
   "source": [
    "our_cache.set(4, 4);\n",
    "our_cache.display()\n",
    "# Expected Output: 1 2 3 4"
   ]
  },
  {
   "cell_type": "code",
   "execution_count": 5,
   "metadata": {},
   "outputs": [
    {
     "data": {
      "text/plain": [
       "1"
      ]
     },
     "execution_count": 5,
     "metadata": {},
     "output_type": "execute_result"
    }
   ],
   "source": [
    "our_cache.get(1)\n",
    "# Expected Output: 1"
   ]
  },
  {
   "cell_type": "code",
   "execution_count": 6,
   "metadata": {},
   "outputs": [
    {
     "name": "stdout",
     "output_type": "stream",
     "text": [
      "3 4 1 2 "
     ]
    }
   ],
   "source": [
    "our_cache.get(2)\n",
    "our_cache.display()\n",
    "# Expected Output: 3 4 1 2"
   ]
  },
  {
   "cell_type": "code",
   "execution_count": 7,
   "metadata": {},
   "outputs": [
    {
     "data": {
      "text/plain": [
       "-1"
      ]
     },
     "execution_count": 7,
     "metadata": {},
     "output_type": "execute_result"
    }
   ],
   "source": [
    "our_cache.get(9)\n",
    "# Expected Output: -1"
   ]
  },
  {
   "cell_type": "code",
   "execution_count": 8,
   "metadata": {},
   "outputs": [
    {
     "name": "stdout",
     "output_type": "stream",
     "text": [
      "3 4 1 2 5 "
     ]
    }
   ],
   "source": [
    "our_cache.set(5, 5);\n",
    "our_cache.display()\n",
    "# Expected Output: 3 4 1 2 5"
   ]
  },
  {
   "cell_type": "code",
   "execution_count": 9,
   "metadata": {},
   "outputs": [
    {
     "name": "stdout",
     "output_type": "stream",
     "text": [
      "4 1 2 5 6 "
     ]
    }
   ],
   "source": [
    "our_cache.set(6, 6);\n",
    "our_cache.display()\n",
    "# Expected Output: 4 1 2 5 6"
   ]
  },
  {
   "cell_type": "code",
   "execution_count": 10,
   "metadata": {},
   "outputs": [
    {
     "data": {
      "text/plain": [
       "'Already Present!'"
      ]
     },
     "execution_count": 10,
     "metadata": {},
     "output_type": "execute_result"
    }
   ],
   "source": [
    "our_cache.set(4,5)\n",
    "# Expected Output: Already Present!"
   ]
  },
  {
   "cell_type": "code",
   "execution_count": 11,
   "metadata": {},
   "outputs": [
    {
     "data": {
      "text/plain": [
       "6"
      ]
     },
     "execution_count": 11,
     "metadata": {},
     "output_type": "execute_result"
    }
   ],
   "source": [
    "our_cache.get(6)\n",
    "# Expected Output: 6"
   ]
  },
  {
   "cell_type": "code",
   "execution_count": 12,
   "metadata": {
    "scrolled": true
   },
   "outputs": [
    {
     "name": "stdout",
     "output_type": "stream",
     "text": [
      "4 1 2 5 6 "
     ]
    }
   ],
   "source": [
    "our_cache.get(3)\n",
    "our_cache.display()\n",
    "# Expected Output: 4 1 2 5 6"
   ]
  },
  {
   "cell_type": "code",
   "execution_count": 13,
   "metadata": {},
   "outputs": [
    {
     "data": {
      "text/plain": [
       "5"
      ]
     },
     "execution_count": 13,
     "metadata": {},
     "output_type": "execute_result"
    }
   ],
   "source": [
    "our_cache.get(5)\n",
    "# Expected Output: 5"
   ]
  },
  {
   "cell_type": "code",
   "execution_count": 14,
   "metadata": {},
   "outputs": [
    {
     "name": "stdout",
     "output_type": "stream",
     "text": [
      "4 1 2 6 5 "
     ]
    }
   ],
   "source": [
    "our_cache.display()\n",
    "# Expected Output: 4 1 2 6 5"
   ]
  },
  {
   "cell_type": "code",
   "execution_count": 15,
   "metadata": {},
   "outputs": [
    {
     "name": "stdout",
     "output_type": "stream",
     "text": [
      "1 2 6 5 33 "
     ]
    }
   ],
   "source": [
    "our_cache.set(23, 33)\n",
    "our_cache.display()\n",
    "# Expected Output: 1 2 6 5 33"
   ]
  },
  {
   "cell_type": "code",
   "execution_count": 87,
   "metadata": {},
   "outputs": [
    {
     "data": {
      "text/plain": [
       "-1"
      ]
     },
     "execution_count": 87,
     "metadata": {},
     "output_type": "execute_result"
    }
   ],
   "source": [
    "our_cache.get(3)\n",
    "# Expected Output: -1"
   ]
  }
 ],
 "metadata": {
  "kernelspec": {
   "display_name": "Python 3",
   "language": "python",
   "name": "python3"
  },
  "language_info": {
   "codemirror_mode": {
    "name": "ipython",
    "version": 3
   },
   "file_extension": ".py",
   "mimetype": "text/x-python",
   "name": "python",
   "nbconvert_exporter": "python",
   "pygments_lexer": "ipython3",
   "version": "3.6.3"
  }
 },
 "nbformat": 4,
 "nbformat_minor": 2
}
